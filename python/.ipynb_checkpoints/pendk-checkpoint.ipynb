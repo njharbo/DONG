{
 "cells": [
  {
   "cell_type": "markdown",
   "metadata": {},
   "source": [
    "# Værdien af statens aktier i DONG under de to forskellige aftaler"
   ]
  },
  {
   "cell_type": "code",
   "execution_count": 1,
   "metadata": {
    "collapsed": false
   },
   "outputs": [
    {
     "name": "stdout",
     "output_type": "stream",
     "text": [
      "Populating the interactive namespace from numpy and matplotlib\n"
     ]
    }
   ],
   "source": [
    "%pylab inline"
   ]
  },
  {
   "cell_type": "code",
   "execution_count": 2,
   "metadata": {
    "collapsed": true
   },
   "outputs": [],
   "source": [
    "from pandas import *"
   ]
  },
  {
   "cell_type": "markdown",
   "metadata": {},
   "source": [
    "Dette er statens nuværende andel."
   ]
  },
  {
   "cell_type": "code",
   "execution_count": 3,
   "metadata": {
    "collapsed": true
   },
   "outputs": [],
   "source": [
    "stat_andel = 0.81"
   ]
  },
  {
   "cell_type": "markdown",
   "metadata": {},
   "source": [
    "## PensionDanmark aftalen"
   ]
  },
  {
   "cell_type": "markdown",
   "metadata": {},
   "source": [
    "Payoff til staten fra PensionDanmark-aftalen som funktion af sand værdi, indskud og realiseret afkast.\n",
    "\n",
    "Vores output er:\n",
    "* Den betaling staten skal foretage til investoren\n",
    "* Værdien af statens aktiebeholdning\n",
    "\n",
    "Investorens option har en strike på det oprindelige indskud forrentet med en fast rente. "
   ]
  },
  {
   "cell_type": "code",
   "execution_count": 19,
   "metadata": {
    "collapsed": true
   },
   "outputs": [],
   "source": [
    "def pendk(sand, indskud, premoney, n, g, r):\n",
    "    # Samlet værdi på DONG\n",
    "    værdi_dong = pow(1 + r, n) * (sand + indskud)\n",
    "    \n",
    "    # Værdi for PensionDanmark hvis de udnytter optionen\n",
    "    værdi_pendk_option = pow(1 + g, n) * indskud\n",
    "    # Værdi for PensionDanmark hvis de ikke udnytter optionen og beholder aktierne\n",
    "    værdi_pendk_aktie = (indskud / (premoney + indskud)) * værdi_dong\n",
    "    \n",
    "    if værdi_pendk_option > værdi_pendk_aktie:\n",
    "        # PensionDanmark udnytter optionen\n",
    "        værdi_pendk = værdi_pendk_option\n",
    "        \n",
    "        # Betaling som staten foretager til PensionDanmark\n",
    "        betaling_pendk_stat = værdi_pendk_option\n",
    "        \n",
    "        # Staten overtager PensionDanmarks andel, foretager betalingen til PensionDanmark\n",
    "        værdi_pendk_stat_aktier = værdi_dong * (premoney * stat_andel + indskud) / (premoney + indskud)\n",
    "        værdi_pendk_stat = værdi_pendk_stat_aktier - betaling_pendk_stat\n",
    "    else:\n",
    "        værdi_pendk = værdi_pendk_aktie\n",
    "        værdi_pendk_stat_aktier = værdi_dong * premoney * stat_andel / (premoney + indskud)\n",
    "        værdi_pendk_stat = værdi_pendk_stat_aktier\n",
    "        betaling_pendk_stat = 0.0\n",
    "    \n",
    "    return Series({\n",
    "        'værdi_pendk': værdi_pendk,\n",
    "        'værdi_pendk_stat': værdi_pendk_stat,\n",
    "        'betaling_pendk_stat': betaling_pendk_stat,\n",
    "        'værdi_pendk_stat_aktier': værdi_pendk_stat_aktier\n",
    "    })"
   ]
  },
  {
   "cell_type": "markdown",
   "metadata": {},
   "source": [
    "En lille test."
   ]
  },
  {
   "cell_type": "code",
   "execution_count": 20,
   "metadata": {
    "collapsed": false
   },
   "outputs": [
    {
     "data": {
      "text/plain": [
       "betaling_pendk_stat     0.000000\n",
       "værdi_pendk            16.588800\n",
       "værdi_pendk_stat       53.747712\n",
       "dtype: float64"
      ]
     },
     "execution_count": 20,
     "metadata": {},
     "output_type": "execute_result"
    }
   ],
   "source": [
    "pendk(30, 10, 40, 4, .02, .2)"
   ]
  },
  {
   "cell_type": "markdown",
   "metadata": {},
   "source": [
    "## Goldman aftalen"
   ]
  },
  {
   "cell_type": "markdown",
   "metadata": {},
   "source": [
    "Samme som `pendk`-funktionen, men for Goldman-aftalen. Optionens struktur er lidt anderledes."
   ]
  },
  {
   "cell_type": "code",
   "execution_count": 6,
   "metadata": {
    "collapsed": true
   },
   "outputs": [],
   "source": [
    "def gs(sand, indskud, premoney, n, g, r):\n",
    "    # Samlet værdi på DONG\n",
    "    værdi_dong = pow(1 + r, n) * (sand + indskud)\n",
    "\n",
    "    # Værdi for Goldman hvis de udnytter optionen.\n",
    "    værdi_gs_option = \\\n",
    "        pow(1 + g, n) * 0.6 * indskud \\\n",
    "        + 0.4 * indskud / (indskud + premoney) * værdi_dong\n",
    "    værdi_gs_aktie = indskud / (indskud + premoney) * værdi_dong\n",
    "    \n",
    "    if værdi_gs_option > værdi_gs_aktie:\n",
    "        # Goldman udnytter optionen\n",
    "        værdi_gs = værdi_gs_option\n",
    "        \n",
    "        # Betaling fra staten til Goldman\n",
    "        # Fast forretning af 60% af aktierne, markedspris af 40%\n",
    "        betaling_gs_stat = værdi_gs_option\n",
    "        \n",
    "        # Staten overtager 100% af Goldmans andel, foretager betalingen til Goldman\n",
    "        værdi_gs_stat_aktier = værdi_dong * (premoney*stat_andel + indskud) / (premoney + indskud)\n",
    "        værdi_gs_stat = værdi_gs_stat_aktier - betaling_gs_stat\n",
    "    else:\n",
    "        værdi_gs = værdi_gs_aktie\n",
    "        værdi_gs_stat_aktier = værdi_dong * premoney * stat_andel / (premoney + indskud)\n",
    "        værdi_gs_stat = værdi_gs_stat_aktier\n",
    "        betaling_gs_stat = 0.0\n",
    "    \n",
    "    return Series({\n",
    "        'værdi_gs': værdi_gs,\n",
    "        'værdi_gs_stat': værdi_gs_stat,\n",
    "        'betaling_gs_stat': betaling_gs_stat,\n",
    "        'værdi_gs_stat_aktier': værdi_gs_stat_aktier\n",
    "    })"
   ]
  },
  {
   "cell_type": "code",
   "execution_count": 7,
   "metadata": {
    "collapsed": false
   },
   "outputs": [
    {
     "data": {
      "text/plain": [
       "betaling_gs_stat     0.00000\n",
       "værdi_gs            20.73600\n",
       "værdi_gs_stat       50.38848\n",
       "dtype: float64"
      ]
     },
     "execution_count": 7,
     "metadata": {},
     "output_type": "execute_result"
    }
   ],
   "source": [
    "gs(30, 10, 30, 4, .015, .2)"
   ]
  },
  {
   "cell_type": "markdown",
   "metadata": {},
   "source": [
    "## Som funktion af afkast"
   ]
  },
  {
   "cell_type": "markdown",
   "metadata": {},
   "source": [
    "De afkast vi beregner som en funktion af."
   ]
  },
  {
   "cell_type": "code",
   "execution_count": 8,
   "metadata": {
    "collapsed": false
   },
   "outputs": [],
   "source": [
    "afkast = Series(arange(-1, 1, .01), name='r')"
   ]
  },
  {
   "cell_type": "markdown",
   "metadata": {},
   "source": [
    "Parametre."
   ]
  },
  {
   "cell_type": "code",
   "execution_count": 9,
   "metadata": {
    "collapsed": true
   },
   "outputs": [],
   "source": [
    "sand = 31.5\n",
    "indskud_gs = 11.\n",
    "indskud_pendk = 8.\n",
    "premoney_pendk = 46.\n",
    "premoney_gs = 31.5\n",
    "g = 0.0225\n",
    "n = 4"
   ]
  },
  {
   "cell_type": "markdown",
   "metadata": {},
   "source": [
    "Data for henholdsvis PensionDanmark og Goldman."
   ]
  },
  {
   "cell_type": "code",
   "execution_count": 10,
   "metadata": {
    "collapsed": false
   },
   "outputs": [],
   "source": [
    "pendk_data = afkast.apply(lambda r: pendk(sand, indskud_pendk, premoney_pendk, n, g, r))"
   ]
  },
  {
   "cell_type": "code",
   "execution_count": 11,
   "metadata": {
    "collapsed": true
   },
   "outputs": [],
   "source": [
    "gs_data = afkast.apply(lambda r: gs(sand, indskud_gs, premoney_gs, n, g, r))"
   ]
  },
  {
   "cell_type": "markdown",
   "metadata": {},
   "source": [
    "Samlet data for denne beregning."
   ]
  },
  {
   "cell_type": "code",
   "execution_count": 12,
   "metadata": {
    "collapsed": false
   },
   "outputs": [],
   "source": [
    "r_data = concat([afkast, pendk_data, gs_data], axis=1)"
   ]
  },
  {
   "cell_type": "code",
   "execution_count": 13,
   "metadata": {
    "collapsed": false
   },
   "outputs": [
    {
     "data": {
      "text/html": [
       "<div style=\"max-height:1000px;max-width:1500px;overflow:auto;\">\n",
       "<table border=\"1\" class=\"dataframe\">\n",
       "  <thead>\n",
       "    <tr style=\"text-align: right;\">\n",
       "      <th></th>\n",
       "      <th>r</th>\n",
       "      <th>betaling_pendk_stat</th>\n",
       "      <th>værdi_pendk</th>\n",
       "      <th>værdi_pendk_stat</th>\n",
       "      <th>betaling_gs_stat</th>\n",
       "      <th>værdi_gs</th>\n",
       "      <th>værdi_gs_stat</th>\n",
       "    </tr>\n",
       "  </thead>\n",
       "  <tbody>\n",
       "    <tr>\n",
       "      <th>0</th>\n",
       "      <td>-1.00</td>\n",
       "      <td>8.744667</td>\n",
       "      <td>8.744667</td>\n",
       "      <td>-8.744667</td>\n",
       "      <td>7.214350</td>\n",
       "      <td>7.214350</td>\n",
       "      <td>-7.214350</td>\n",
       "    </tr>\n",
       "    <tr>\n",
       "      <th>1</th>\n",
       "      <td>-0.99</td>\n",
       "      <td>8.744667</td>\n",
       "      <td>8.744667</td>\n",
       "      <td>-8.744666</td>\n",
       "      <td>7.214350</td>\n",
       "      <td>7.214350</td>\n",
       "      <td>-7.214350</td>\n",
       "    </tr>\n",
       "    <tr>\n",
       "      <th>2</th>\n",
       "      <td>-0.98</td>\n",
       "      <td>8.744667</td>\n",
       "      <td>8.744667</td>\n",
       "      <td>-8.744661</td>\n",
       "      <td>7.214351</td>\n",
       "      <td>7.214351</td>\n",
       "      <td>-7.214345</td>\n",
       "    </tr>\n",
       "    <tr>\n",
       "      <th>3</th>\n",
       "      <td>-0.97</td>\n",
       "      <td>8.744667</td>\n",
       "      <td>8.744667</td>\n",
       "      <td>-8.744640</td>\n",
       "      <td>7.214353</td>\n",
       "      <td>7.214353</td>\n",
       "      <td>-7.214324</td>\n",
       "    </tr>\n",
       "    <tr>\n",
       "      <th>4</th>\n",
       "      <td>-0.96</td>\n",
       "      <td>8.744667</td>\n",
       "      <td>8.744667</td>\n",
       "      <td>-8.744582</td>\n",
       "      <td>7.214361</td>\n",
       "      <td>7.214361</td>\n",
       "      <td>-7.214268</td>\n",
       "    </tr>\n",
       "  </tbody>\n",
       "</table>\n",
       "</div>"
      ],
      "text/plain": [
       "      r  betaling_pendk_stat  værdi_pendk  værdi_pendk_stat  betaling_gs_stat  \\\n",
       "0 -1.00             8.744667     8.744667         -8.744667          7.214350   \n",
       "1 -0.99             8.744667     8.744667         -8.744666          7.214350   \n",
       "2 -0.98             8.744667     8.744667         -8.744661          7.214351   \n",
       "3 -0.97             8.744667     8.744667         -8.744640          7.214353   \n",
       "4 -0.96             8.744667     8.744667         -8.744582          7.214361   \n",
       "\n",
       "   værdi_gs  værdi_gs_stat  \n",
       "0  7.214350      -7.214350  \n",
       "1  7.214350      -7.214350  \n",
       "2  7.214351      -7.214345  \n",
       "3  7.214353      -7.214324  \n",
       "4  7.214361      -7.214268  "
      ]
     },
     "execution_count": 13,
     "metadata": {},
     "output_type": "execute_result"
    }
   ],
   "source": [
    "r_data.head()"
   ]
  },
  {
   "cell_type": "markdown",
   "metadata": {},
   "source": [
    "Statens cashflow for PensionDanmark minus statens cashflow for Goldman."
   ]
  },
  {
   "cell_type": "code",
   "execution_count": 14,
   "metadata": {
    "collapsed": false
   },
   "outputs": [],
   "source": [
    "r_data['stat_forskel'] = r_data.værdi_pendk_stat - r_data.værdi_gs_stat"
   ]
  },
  {
   "cell_type": "code",
   "execution_count": 15,
   "metadata": {
    "collapsed": false
   },
   "outputs": [
    {
     "data": {
      "text/plain": [
       "<matplotlib.axes._subplots.AxesSubplot at 0x1123fb400>"
      ]
     },
     "execution_count": 15,
     "metadata": {},
     "output_type": "execute_result"
    },
    {
     "data": {
      "image/png": "[encoded data removed]",
      "text/plain": [
       "<matplotlib.figure.Figure at 0x112439d30>"
      ]
     },
     "metadata": {},
     "output_type": "display_data"
    }
   ],
   "source": [
    "r_data.plot(kind='line', x='r', y='stat_forskel', legend=False)"
   ]
  },
  {
   "cell_type": "code",
   "execution_count": 16,
   "metadata": {
    "collapsed": false
   },
   "outputs": [
    {
     "data": {
      "text/html": [
       "<div style=\"max-height:1000px;max-width:1500px;overflow:auto;\">\n",
       "<table border=\"1\" class=\"dataframe\">\n",
       "  <thead>\n",
       "    <tr style=\"text-align: right;\">\n",
       "      <th></th>\n",
       "      <th>r</th>\n",
       "      <th>betaling_pendk_stat</th>\n",
       "      <th>værdi_pendk</th>\n",
       "      <th>værdi_pendk_stat</th>\n",
       "      <th>betaling_gs_stat</th>\n",
       "      <th>værdi_gs</th>\n",
       "      <th>værdi_gs_stat</th>\n",
       "      <th>stat_forskel</th>\n",
       "    </tr>\n",
       "  </thead>\n",
       "  <tbody>\n",
       "    <tr>\n",
       "      <th>107</th>\n",
       "      <td>0.07</td>\n",
       "      <td>8.744667</td>\n",
       "      <td>8.744667</td>\n",
       "      <td>34.651663</td>\n",
       "      <td>0</td>\n",
       "      <td>14.418756</td>\n",
       "      <td>33.44496</td>\n",
       "      <td>1.206703</td>\n",
       "    </tr>\n",
       "  </tbody>\n",
       "</table>\n",
       "</div>"
      ],
      "text/plain": [
       "        r  betaling_pendk_stat  værdi_pendk  værdi_pendk_stat  \\\n",
       "107  0.07             8.744667     8.744667         34.651663   \n",
       "\n",
       "     betaling_gs_stat   værdi_gs  værdi_gs_stat  stat_forskel  \n",
       "107                 0  14.418756       33.44496      1.206703  "
      ]
     },
     "execution_count": 16,
     "metadata": {},
     "output_type": "execute_result"
    }
   ],
   "source": [
    "r_data[(r_data.r >= 0.07) & (r_data.r <= 0.071)]"
   ]
  },
  {
   "cell_type": "code",
   "execution_count": 17,
   "metadata": {
    "collapsed": true
   },
   "outputs": [],
   "source": [
    "r_data.to_csv('r_data.csv')"
   ]
  },
  {
   "cell_type": "code",
   "execution_count": 18,
   "metadata": {
    "collapsed": false
   },
   "outputs": [
    {
     "data": {
      "text/plain": [
       "betaling_pendk_stat     8.744667\n",
       "værdi_pendk             8.744667\n",
       "værdi_pendk_stat       34.651663\n",
       "dtype: float64"
      ]
     },
     "execution_count": 18,
     "metadata": {},
     "output_type": "execute_result"
    }
   ],
   "source": [
    "pendk(sand, indskud_pendk, premoney_pendk, n, g, 0.07)"
   ]
  },
  {
   "cell_type": "code",
   "execution_count": null,
   "metadata": {
    "collapsed": true
   },
   "outputs": [],
   "source": []
  }
 ],
 "metadata": {
  "kernelspec": {
   "display_name": "Python 3",
   "language": "python",
   "name": "python3"
  },
  "language_info": {
   "codemirror_mode": {
    "name": "ipython",
    "version": 3
   },
   "file_extension": ".py",
   "mimetype": "text/x-python",
   "name": "python",
   "nbconvert_exporter": "python",
   "pygments_lexer": "ipython3",
   "version": "3.4.3"
  }
 },
 "nbformat": 4,
 "nbformat_minor": 0
}
